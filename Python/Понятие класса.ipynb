{
  "nbformat": 4,
  "nbformat_minor": 0,
  "metadata": {
    "colab": {
      "provenance": [],
      "authorship_tag": "ABX9TyMm1vm9Bsdk6HNxHH6ZQkEb"
    },
    "kernelspec": {
      "name": "python3",
      "display_name": "Python 3"
    },
    "language_info": {
      "name": "python"
    }
  },
  "cells": [
    {
      "cell_type": "markdown",
      "source": [
        "Задание 1  \n",
        "Напишите функцию, которая возвращает название валюты (поле \"Name\") с максимальным значением курса с помощью сервиса\n",
        "www.cbr-xml-daily.ru...ly_json.js"
      ],
      "metadata": {
        "id": "APWhoY6vLWzR"
      }
    },
    {
      "cell_type": "code",
      "source": [
        "import requests\n",
        "\n",
        "class Rate:\n",
        "  \"\"\"делает запрос в сервис и возвращает результат курсов валют\"\"\"\n",
        "  def __init__(self):\n",
        "    self.api_url = requests.get('http://www.cbr-xml-daily.ru/daily_json.js')\n",
        "    self.data = self.api_url.json()\n",
        "\n",
        "  \"\"\"возвращает валюту с наибольшим курсом\"\"\"\n",
        "  def valute (self):\n",
        "    valute = max(self.data['Valute'].values(), key=lambda x: x['Value'])\n",
        "    print(f\"Валюта с наибольшим курсом: {valute['Name']}\")\n",
        "    return valute\n"
      ],
      "metadata": {
        "id": "zoj6ypmYLvcD"
      },
      "execution_count": null,
      "outputs": []
    },
    {
      "cell_type": "markdown",
      "source": [
        "Задание 2  \n",
        "Добавьте в класс Rate параметр diff (со значениями True или False), который в случае значения True в методах курсов валют (eur, usd и т.д.) будет возвращать не курс валюты, а изменение по сравнению в прошлым значением. Считайте, self.diff будет принимать значение True только при возврате значения курса. При отображении всей информации о валюте он не используется."
      ],
      "metadata": {
        "id": "D7K-RJiQLybm"
      }
    },
    {
      "cell_type": "code",
      "source": [
        "import requests\n",
        "\n",
        "class Rate:\n",
        "  \"\"\"делает запрос в сервис и возвращает результат курсов валют\"\"\"\n",
        "  def __init__(self):\n",
        "    self.api_url = requests.get('http://www.cbr-xml-daily.ru/daily_json.js')\n",
        "    self.data = self.api_url.json()\n",
        "    self.prev_values = {}\n",
        "    return self.data\n",
        "  \"\"\"возвращает курс валюты швейцарского франка\"\"\"\n",
        "  def CHF (self):\n",
        "    return self.data['Valute']['CHF']\n",
        "    print (f\"Курс швейцарского франка: {self.data}\")\n",
        "  \"\"\"метод проверяющий измение курса валют\"\"\"\n",
        "  def get_diff (self, currency, diff):\n",
        "    if diff == True:\n",
        "      \"\"\"если True, возвращает изменение курса\"\"\"\n",
        "      return self.data ['Valute'][currency]['Value'] - self.prev_values [currency]\n",
        "    else:\n",
        "      \"\"\"иначе вовращает текущий курс\"\"\"\n",
        "      return self.data ['Valute'][currency]['Value']\n",
        "\n",
        "\n",
        "\n"
      ],
      "metadata": {
        "id": "f3rCE9OOL-4D"
      },
      "execution_count": null,
      "outputs": []
    },
    {
      "cell_type": "markdown",
      "source": [
        "Задание 3\n",
        "\n",
        "Напишите класс Designer, который учитывает количество международных премий для дизайнеров (из презентации: “Повышение на 1 грейд за каждые 7 баллов. Получение международной премии – это +2 балла”). Считайте, что при выходе на работу сотрудник уже имеет две премии и их количество не меняется со стажем (конечно если хотите это можно вручную менять)."
      ],
      "metadata": {
        "id": "XK-LVVUTL_fP"
      }
    },
    {
      "cell_type": "code",
      "source": [
        "class Designer:\n",
        " def __init__(self):\n",
        "  self.awards = 2\n",
        "  self.grade = 0\n",
        "\n",
        " def calculate_grade(self):\n",
        "  self.total_points += 2\n",
        "  self.new_grade = self.grade + (self.total_points // 7)\n",
        "  return self.new_grade\n",
        "\n",
        "def print_info(self):\n",
        "  print(f\"Грейд: {self.new_grade}, Количество международных премий: {self.total_points}\")"
      ],
      "metadata": {
        "id": "5w6FRO3sMa_t"
      },
      "execution_count": null,
      "outputs": []
    }
  ]
}