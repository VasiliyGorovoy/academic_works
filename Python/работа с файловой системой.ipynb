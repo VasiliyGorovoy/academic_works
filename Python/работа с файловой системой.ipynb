{
  "nbformat": 4,
  "nbformat_minor": 0,
  "metadata": {
    "colab": {
      "provenance": [],
      "mount_file_id": "1x1wekKTV7pq7PbMCanPWi-p7NsuEfx8R",
      "authorship_tag": "ABX9TyPUj5PK2lYj6WPhgQIjG484"
    },
    "kernelspec": {
      "name": "python3",
      "display_name": "Python 3"
    },
    "language_info": {
      "name": "python"
    }
  },
  "cells": [
    {
      "cell_type": "markdown",
      "source": [
        "Домашнее задание\n",
        "\n",
        "1.Переведите содержимое файла purchase_log.txt* в словарь purchases вида:\n",
        "{‘1840e0b9d4’: ‘Продукты’, …}\n",
        "\n",
        "2.Для каждого user_id в файле visit_log.csv определите третий столбец с категорией покупки, если покупка была, сам файл visit_log.csv* изменять не надо.\n",
        "Запишите в файл funnel.csv визиты из файла visit_log.csv*, в которых были покупки с указанием категории.\n",
        "\n",
        "Учтите условия на данные:\n",
        "содержимое purchase_log.txt* помещается в оперативную память компьютера;\n",
        "содержимое visit_log.csv* — нет; используйте только построчную обработку этого файла."
      ],
      "metadata": {
        "id": "fIcZGkNGpq4J"
      }
    },
    {
      "cell_type": "code",
      "source": [
        "#переводим содержимое файла в словарь\n",
        "\n",
        "import json\n",
        "\n",
        "purchase={}\n",
        "with open('purchase_log.txt') as f :\n",
        "  for i, line in enumerate (f):\n",
        "        line = line.strip()\n",
        "        dict_ = json.loads(line)\n",
        "        key=dict_['user_id']\n",
        "        value=dict_['category']\n",
        "        if key!='user_id':\n",
        "          purchase.setdefault(key,value)\n",
        "        print(line)\n",
        "        i += 1\n",
        "        if i > 10:\n",
        "          break\n"
      ],
      "metadata": {
        "colab": {
          "base_uri": "https://localhost:8080/"
        },
        "id": "ZuJvgGDM3v6k",
        "outputId": "4540808a-4cbf-436e-c31a-9ba03a068593"
      },
      "execution_count": null,
      "outputs": [
        {
          "output_type": "stream",
          "name": "stdout",
          "text": [
            "{\"user_id\": \"user_id\", \"category\": \"category\"}\n",
            "{\"user_id\": \"1840e0b9d4\", \"category\": \"Продукты\"}\n",
            "{\"user_id\": \"4e4f90fcfb\", \"category\": \"Электроника\"}\n",
            "{\"user_id\": \"afea8d72fc\", \"category\": \"Электроника\"}\n",
            "{\"user_id\": \"373a6055fe\", \"category\": \"Бытовая техника\"}\n",
            "{\"user_id\": \"9b2ab046f3\", \"category\": \"Электроника\"}\n",
            "{\"user_id\": \"9f39d307c3\", \"category\": \"Электроника\"}\n",
            "{\"user_id\": \"44edeffc91\", \"category\": \"Продукты\"}\n",
            "{\"user_id\": \"704474fa2d\", \"category\": \"Продукты\"}\n",
            "{\"user_id\": \"1de31be403\", \"category\": \"Бытовая техника\"}\n",
            "{\"user_id\": \"b71f36a5e4\", \"category\": \"Продукты\"}\n"
          ]
        }
      ]
    },
    {
      "cell_type": "code",
      "source": [
        "#записываем в файл funnel.csv визиты из файла visit_log.csv, в которых были покупки с указанием категории\n",
        "\n",
        "with open('visit_log.csv', 'r') as f, open('funnel.csv', 'w') as w_f:\n",
        "    for i ,row in enumerate (f):\n",
        "        line_list=row.strip().split(',')\n",
        "        if line_list[0] in purchase.keys():\n",
        "            line_list.append(purchase[line_list[0]])\n",
        "            add_line=','.join(line_list)\n",
        "        elif line_list[0]=='user_id':\n",
        "            line_list.append('category')\n",
        "            add_line=','.join(line_list)\n",
        "        else:\n",
        "            add_line=','.join(line_list)\n",
        "        w_f.write(add_line+'\\n')\n",
        "        print(w_f.write)\n",
        "        i += 1\n",
        "        if i > 10:\n",
        "          break\n"
      ],
      "metadata": {
        "colab": {
          "base_uri": "https://localhost:8080/"
        },
        "id": "KPAQbpuTkxsX",
        "outputId": "af7937e1-e2ae-4245-9717-459ad98d02da"
      },
      "execution_count": null,
      "outputs": [
        {
          "output_type": "stream",
          "name": "stdout",
          "text": [
            "<built-in method write of _io.TextIOWrapper object at 0x7c10acaa0040>\n",
            "<built-in method write of _io.TextIOWrapper object at 0x7c10acaa0040>\n",
            "<built-in method write of _io.TextIOWrapper object at 0x7c10acaa0040>\n",
            "<built-in method write of _io.TextIOWrapper object at 0x7c10acaa0040>\n",
            "<built-in method write of _io.TextIOWrapper object at 0x7c10acaa0040>\n",
            "<built-in method write of _io.TextIOWrapper object at 0x7c10acaa0040>\n",
            "<built-in method write of _io.TextIOWrapper object at 0x7c10acaa0040>\n",
            "<built-in method write of _io.TextIOWrapper object at 0x7c10acaa0040>\n",
            "<built-in method write of _io.TextIOWrapper object at 0x7c10acaa0040>\n",
            "<built-in method write of _io.TextIOWrapper object at 0x7c10acaa0040>\n",
            "<built-in method write of _io.TextIOWrapper object at 0x7c10acaa0040>\n"
          ]
        }
      ]
    }
  ]
}