{
  "nbformat": 4,
  "nbformat_minor": 0,
  "metadata": {
    "colab": {
      "provenance": [],
      "authorship_tag": "ABX9TyNkrj1/A5/XwpYUfHEXkBR8"
    },
    "kernelspec": {
      "name": "python3",
      "display_name": "Python 3"
    },
    "language_info": {
      "name": "python"
    }
  },
  "cells": [
    {
      "cell_type": "markdown",
      "source": [
        "Задание 1\n",
        "\n",
        "Печатные газеты использовали свой формат дат для каждого выпуска. Для каждой газеты из списка напишите формат указанной даты для перевода в объект datetime:  \n",
        "The Moscow Times — Wednesday, October 2, 2002  \n",
        "The Guardian — Friday, 11.10.13  \n",
        "Daily News — Thursday, 18 August 1977"
      ],
      "metadata": {
        "id": "iN37GfBcH0cV"
      }
    },
    {
      "cell_type": "code",
      "source": [
        "from datetime import datetime\n",
        "date1 = datetime.strptime(\"Wednesday, October 2, 2002\", \"%A, %B %d, %Y\")\n",
        "date2 = datetime.strptime(\"Friday, 11.10.13\", \"%A, %d.%m.%y\")\n",
        "date3 = datetime.strptime(\"Thursday, 18 August 1977\", \"%A, %d %B %Y\")\n",
        "print(date1,date2,date3,sep='\\n')"
      ],
      "metadata": {
        "colab": {
          "base_uri": "https://localhost:8080/"
        },
        "id": "ThqGsQDOIFHC",
        "outputId": "1e235e54-98ef-4186-fdec-7e08729316ad"
      },
      "execution_count": null,
      "outputs": [
        {
          "output_type": "stream",
          "name": "stdout",
          "text": [
            "2002-10-02 00:00:00\n",
            "2013-10-11 00:00:00\n",
            "1977-08-18 00:00:00\n"
          ]
        }
      ]
    },
    {
      "cell_type": "markdown",
      "source": [
        "Задание 2\n",
        "\n",
        "Дан поток дат в формате YYYY-MM-DD, в которых встречаются некорректные значения:  \n",
        "stream = [‘2018-04-02’, ‘2018-02-29’, ‘2018-19-02’]\n",
        "\n",
        "Напишите функцию, которая проверяет эти даты на корректность. То есть для каждой даты возвращает True — дата корректна или False — некорректная."
      ],
      "metadata": {
        "id": "qbqnItvQIFne"
      }
    },
    {
      "cell_type": "code",
      "source": [
        "from datetime import datetime\n",
        "def check_date(date):\n",
        "  try:\n",
        "    datetime.strptime(date, \"%Y-%m-%d\")\n",
        "    return True\n",
        "  except ValueError:\n",
        "      return False"
      ],
      "metadata": {
        "id": "_QzQ3UBNIQfg"
      },
      "execution_count": null,
      "outputs": []
    },
    {
      "cell_type": "code",
      "source": [
        "stream = ['2018-04-02', '2018-02-29', '2018-19-02']\n",
        "result = []\n",
        "for date in stream:\n",
        "  result.append(check_date(date))\n",
        "print(result)"
      ],
      "metadata": {
        "colab": {
          "base_uri": "https://localhost:8080/"
        },
        "id": "8qrA6h0wVJnB",
        "outputId": "5f1905e7-0e3e-4df5-e2fc-1264693bd5a1"
      },
      "execution_count": null,
      "outputs": [
        {
          "output_type": "stream",
          "name": "stdout",
          "text": [
            "[True, False, False]\n"
          ]
        }
      ]
    },
    {
      "cell_type": "markdown",
      "source": [
        "Задание 3\n",
        "\n",
        "Напишите функцию date_range, которая возвращает список дат за период от start_date до end_date. Даты должны вводиться в формате YYYY-MM-DD. В случае неверного формата или при start_date > end_date должен возвращаться пустой список."
      ],
      "metadata": {
        "id": "Wx0mvg1vIRp3"
      }
    },
    {
      "cell_type": "code",
      "source": [
        "from datetime import datetime\n",
        "\n",
        "def date_range(start_date, end_date):\n",
        "  try:\n",
        "    \"\"\"делает проверку начальной даты и конечной даты по одному формату\"\"\"\n",
        "    start_date_ = datetime.strptime(start_date, \"%Y-%m-%d\")\n",
        "    end_date_ = datetime.strptime(end_date, \"%Y-%m-%d\")\n",
        "    \"\"\"если начальная дата больше конечной возвращает пустой список\"\"\"\n",
        "    if start_date > end_date:\n",
        "      return []\n",
        "    \"\"\"если формат даты введен некорректно тоже возвращает пустой список\"\"\"\n",
        "  except ValueError:\n",
        "    return []\n"
      ],
      "metadata": {
        "id": "EL-IkWiOIYxr"
      },
      "execution_count": null,
      "outputs": []
    }
  ]
}