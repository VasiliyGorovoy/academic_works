{
  "nbformat": 4,
  "nbformat_minor": 0,
  "metadata": {
    "colab": {
      "provenance": [],
      "authorship_tag": "ABX9TyP35BIQzToqZN+eBepv7Xu9"
    },
    "kernelspec": {
      "name": "python3",
      "display_name": "Python 3"
    },
    "language_info": {
      "name": "python"
    }
  },
  "cells": [
    {
      "cell_type": "markdown",
      "source": [
        "Уровень 0:  \n",
        "Задание 1  \n",
        "- Создайте матрицу 3 на 3, заполненную числами от 1 до 9\n",
        "-Прибавьте к ней матрицу с единицами на диагонале\n",
        "-Умножьте полученную матрицу на вектор (1, 2, 3)\n",
        "-Вычислить транспонированную матрицу\n",
        "от полученной в результате прибавления матрицы\n",
        "-Посчитайте обратную матрицу к полученной в результате прибавления матрице"
      ],
      "metadata": {
        "id": "HN_9KfdICIgU"
      }
    },
    {
      "cell_type": "code",
      "execution_count": null,
      "metadata": {
        "colab": {
          "base_uri": "https://localhost:8080/"
        },
        "id": "cHn5cl6IBzPV",
        "outputId": "15e59bb5-9786-47a1-ea37-a3842f877051"
      },
      "outputs": [
        {
          "output_type": "stream",
          "name": "stdout",
          "text": [
            "[[1 2 3]\n",
            " [4 5 6]\n",
            " [7 8 9]]\n"
          ]
        }
      ],
      "source": [
        "import numpy as np\n",
        "\n",
        "\"\"\"Создание матрицы 3 на 3, заполненную числами от 1 до 9\"\"\"\n",
        "\n",
        "a1 = np.array ([[1,2,3],[4,5,6],[7,8,9]])\n",
        "print(a1)"
      ]
    },
    {
      "cell_type": "code",
      "source": [
        "\"\"\"Прибавляем к ней матрицу с единицами на диагонале\"\"\"\n",
        "\n",
        "a2 = np.eye (3)\n",
        "print(a2)\n",
        "a3 = a1 + a2\n",
        "print(a3)"
      ],
      "metadata": {
        "colab": {
          "base_uri": "https://localhost:8080/"
        },
        "id": "r4HVBdlXERYN",
        "outputId": "115b72cd-4145-4d89-9214-8e8b6c04f503"
      },
      "execution_count": null,
      "outputs": [
        {
          "output_type": "stream",
          "name": "stdout",
          "text": [
            "[[1. 0. 0.]\n",
            " [0. 1. 0.]\n",
            " [0. 0. 1.]]\n",
            "[[ 2.  2.  3.]\n",
            " [ 4.  6.  6.]\n",
            " [ 7.  8. 10.]]\n"
          ]
        }
      ]
    },
    {
      "cell_type": "code",
      "source": [
        "\"\"\"Умножаем полученную матрицу на вектор (1, 2, 3)\"\"\"\n",
        "\n",
        "vec = [1,2,3]\n",
        "a4 = a3 @ vec\n",
        "print(a4)"
      ],
      "metadata": {
        "colab": {
          "base_uri": "https://localhost:8080/"
        },
        "id": "77VP-C2eHmDh",
        "outputId": "3e06be1a-97f5-41a3-ebc9-a2b556607f5c"
      },
      "execution_count": null,
      "outputs": [
        {
          "output_type": "stream",
          "name": "stdout",
          "text": [
            "[15. 34. 53.]\n"
          ]
        }
      ]
    },
    {
      "cell_type": "code",
      "source": [
        "\"\"\"Вычисляем транспонированную матрицу от полученной в результате прибавления матрицы\"\"\"\n",
        "\n",
        "a_tran = a3.transpose()\n",
        "print(a_tran)"
      ],
      "metadata": {
        "colab": {
          "base_uri": "https://localhost:8080/"
        },
        "id": "eOyr9K2fKwDa",
        "outputId": "4dc931c7-a1ee-47d9-a170-ee936673a0ef"
      },
      "execution_count": null,
      "outputs": [
        {
          "output_type": "stream",
          "name": "stdout",
          "text": [
            "[[ 2.  4.  7.]\n",
            " [ 2.  6.  8.]\n",
            " [ 3.  6. 10.]]\n"
          ]
        }
      ]
    },
    {
      "cell_type": "code",
      "source": [
        "\"\"\"Посчитайте обратную матрицу к полученной в результате прибавления матрице\"\"\"\n",
        "\n",
        "a_rever = np.linalg.inv (a3)\n",
        "a_rever = np.round(a_rever)\n",
        "print(a_rever)"
      ],
      "metadata": {
        "colab": {
          "base_uri": "https://localhost:8080/"
        },
        "id": "MgQQnOudNv14",
        "outputId": "4b195915-3d9e-43bc-f82c-4baf2c454cfa"
      },
      "execution_count": null,
      "outputs": [
        {
          "output_type": "stream",
          "name": "stdout",
          "text": [
            "[[-6. -2.  3.]\n",
            " [-1.  1. -0.]\n",
            " [ 5.  1. -2.]]\n"
          ]
        }
      ]
    },
    {
      "cell_type": "code",
      "source": [
        "\"\"\"Уровень 1:\n",
        "Задание 2\n",
        "Найдите собственные значения и собственные вектора матрицы:\"\"\"\n",
        "\n",
        "m = np.array([[2, 2],\n",
        "              [1, 3]])\n",
        "print(m)\n",
        "m_eig = np.linalg.eig (m)\n",
        "print(m_eig)"
      ],
      "metadata": {
        "colab": {
          "base_uri": "https://localhost:8080/"
        },
        "id": "7VKlyzvHQTMt",
        "outputId": "e6fc3e38-9db1-426f-9652-4231fbbbf7e5"
      },
      "execution_count": null,
      "outputs": [
        {
          "output_type": "stream",
          "name": "stdout",
          "text": [
            "[[2 2]\n",
            " [1 3]]\n",
            "EigResult(eigenvalues=array([1., 4.]), eigenvectors=array([[-0.89442719, -0.70710678],\n",
            "       [ 0.4472136 , -0.70710678]]))\n"
          ]
        }
      ]
    },
    {
      "cell_type": "code",
      "source": [
        "\"\"\"Задание 3\n",
        "Придумайте матрицу, у которой определитель = 1, и все элементы не равны 0.\n",
        "\n",
        "P.S. Матрица должна быть ненулевой и размерностью не менее 2!\"\"\"\n",
        "\n",
        "mat = np.array([[1, 1, 4], [1, 1, 3], [1, 2, 1]])\n",
        "\"\"\"Вычисляем определитель\"\"\"\n",
        "det_mat = np.linalg.det(mat)\n",
        "print(mat)\n",
        "print(det_mat)"
      ],
      "metadata": {
        "colab": {
          "base_uri": "https://localhost:8080/"
        },
        "id": "EvkWWljATj1y",
        "outputId": "d4504dfb-5d05-48f2-922a-cb3129f42c50"
      },
      "execution_count": null,
      "outputs": [
        {
          "output_type": "stream",
          "name": "stdout",
          "text": [
            "[[1 1 4]\n",
            " [1 1 3]\n",
            " [1 2 1]]\n",
            "1.0\n"
          ]
        }
      ]
    }
  ]
}