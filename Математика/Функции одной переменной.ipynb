{
  "nbformat": 4,
  "nbformat_minor": 0,
  "metadata": {
    "colab": {
      "provenance": [],
      "authorship_tag": "ABX9TyOUgMb5UQMY9KzgvlasniJI"
    },
    "kernelspec": {
      "name": "python3",
      "display_name": "Python 3"
    },
    "language_info": {
      "name": "python"
    }
  },
  "cells": [
    {
      "cell_type": "code",
      "execution_count": null,
      "metadata": {
        "colab": {
          "base_uri": "https://localhost:8080/"
        },
        "id": "ovg4NafgZarg",
        "outputId": "82a487e6-2e27-4d1b-b88a-0ecb2a69bf3e"
      },
      "outputs": [
        {
          "output_type": "stream",
          "name": "stdout",
          "text": [
            "Первая производная: (2 - 2*x)*(x**3 + 3*x + 1)/(x**2 - 2*x + 5)**2 + (3*x**2 + 3)/(x**2 - 2*x + 5)\n",
            "Вторая производная: 6*x/(x**2 - 2*x + 5) + (2 - 2*x)*(4 - 4*x)*(x**3 + 3*x + 1)/(x**2 - 2*x + 5)**3 + 2*(2 - 2*x)*(3*x**2 + 3)/(x**2 - 2*x + 5)**2 - 2*(x**3 + 3*x + 1)/(x**2 - 2*x + 5)**2\n",
            "Значение первой производной : 1.19\n",
            "Значение второй производной : -0.16\n"
          ]
        }
      ],
      "source": [
        "import sympy as sp\n",
        "\n",
        "# Определяем переменную x\n",
        "x = sp.symbols('x')\n",
        "\n",
        "# Определяем функцию f(x)\n",
        "f = (x**3+3*x+1)/(x**2-2*x+5)\n",
        "\n",
        "# Находим первую производную\n",
        "f_prime = sp.diff(f, x)\n",
        "print(\"Первая производная:\", f_prime)\n",
        "\n",
        "# Находим вторую производную\n",
        "f_double_prime = sp.diff(f_prime, x)\n",
        "print(\"Вторая производная:\", f_double_prime)\n",
        "\n",
        "# Вычисляем значения производных в точке x\n",
        "value_f_prime_at_pi_half = f_prime.subs(x, 4)\n",
        "value_f_double_prime_at_pi_half = f_double_prime.subs(x, 4)\n",
        "\n",
        "print(f\"Значение первой производной : {value_f_prime_at_pi_half.evalf():.2f}\")\n",
        "print(f\"Значение второй производной : {value_f_double_prime_at_pi_half.evalf():.2f}\")"
      ]
    },
    {
      "cell_type": "code",
      "source": [
        "import sympy as sp\n",
        "\n",
        "# Определяем переменную x\n",
        "x = sp.symbols('x')\n",
        "\n",
        "# Определяем функцию f(x)\n",
        "f = sp.exp(-3 * x) + 2 * x**2 + 5\n",
        "\n",
        "# Находим первую производную\n",
        "f_prime = sp.diff(f, x)\n",
        "print(\"Первая производная:\", f_prime)\n",
        "\n",
        "# Находим вторую производную\n",
        "f_double_prime = sp.diff(f_prime, x)\n",
        "print(\"Вторая производная:\", f_double_prime)\n",
        "\n",
        "# Вычисляем значения производных в точке x\n",
        "value_f_prime_at_pi_half = f_prime.subs(x, 2)\n",
        "value_f_double_prime_at_pi_half = f_double_prime.subs(x, 2)\n",
        "\n",
        "print(f\"Значение первой производной : {value_f_prime_at_pi_half.evalf():.2f}\")\n",
        "print(f\"Значение второй производной : {value_f_double_prime_at_pi_half.evalf():.2f}\")"
      ],
      "metadata": {
        "colab": {
          "base_uri": "https://localhost:8080/"
        },
        "id": "8DPghokLdDYK",
        "outputId": "bac23af6-6edc-4d2f-bb16-a6b2171974b6"
      },
      "execution_count": null,
      "outputs": [
        {
          "output_type": "stream",
          "name": "stdout",
          "text": [
            "Первая производная: 4*x - 3*exp(-3*x)\n",
            "Вторая производная: 4 + 9*exp(-3*x)\n",
            "Значение первой производной : 7.99\n",
            "Значение второй производной : 4.02\n"
          ]
        }
      ]
    }
  ]
}